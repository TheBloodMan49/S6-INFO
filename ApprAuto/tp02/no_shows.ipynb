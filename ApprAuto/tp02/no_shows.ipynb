{
 "cells": [
  {
   "cell_type": "markdown",
   "source": [
    "# The problem \n",
    "\n",
    "We are trying to predict if a given patient will go to their appointment or not. \n",
    "This is a binary classification problem.\n",
    "\n",
    "## Import the dataset"
   ],
   "metadata": {
    "collapsed": false
   },
   "id": "82ec5510e2dca9ec"
  },
  {
   "cell_type": "code",
   "outputs": [],
   "source": [
    "import pandas as pd\n",
    "\n",
    "df = pd.read_csv('KaggleV2-May-2016.csv')"
   ],
   "metadata": {
    "collapsed": false,
    "ExecuteTime": {
     "end_time": "2024-02-20T14:24:56.953156751Z",
     "start_time": "2024-02-20T14:24:56.326181667Z"
    }
   },
   "id": "b5e716ebfd1a0cfc",
   "execution_count": 2
  },
  {
   "cell_type": "markdown",
   "source": [
    "Now let's take a look at the data"
   ],
   "metadata": {
    "collapsed": false
   },
   "id": "73e7cfd043f36d55"
  },
  {
   "cell_type": "code",
   "outputs": [
    {
     "data": {
      "text/plain": "      PatientId  AppointmentID Gender          ScheduledDay  \\\n0  2.987250e+13        5642903      F  2016-04-29T18:38:08Z   \n1  5.589978e+14        5642503      M  2016-04-29T16:08:27Z   \n2  4.262962e+12        5642549      F  2016-04-29T16:19:04Z   \n3  8.679512e+11        5642828      F  2016-04-29T17:29:31Z   \n4  8.841186e+12        5642494      F  2016-04-29T16:07:23Z   \n\n         AppointmentDay  Age      Neighbourhood  Scholarship  Hipertension  \\\n0  2016-04-29T00:00:00Z   62    JARDIM DA PENHA            0             1   \n1  2016-04-29T00:00:00Z   56    JARDIM DA PENHA            0             0   \n2  2016-04-29T00:00:00Z   62      MATA DA PRAIA            0             0   \n3  2016-04-29T00:00:00Z    8  PONTAL DE CAMBURI            0             0   \n4  2016-04-29T00:00:00Z   56    JARDIM DA PENHA            0             1   \n\n   Diabetes  Alcoholism  Handcap  SMS_received No-show  \n0         0           0        0             0      No  \n1         0           0        0             0      No  \n2         0           0        0             0      No  \n3         0           0        0             0      No  \n4         1           0        0             0      No  ",
      "text/html": "<div>\n<style scoped>\n    .dataframe tbody tr th:only-of-type {\n        vertical-align: middle;\n    }\n\n    .dataframe tbody tr th {\n        vertical-align: top;\n    }\n\n    .dataframe thead th {\n        text-align: right;\n    }\n</style>\n<table border=\"1\" class=\"dataframe\">\n  <thead>\n    <tr style=\"text-align: right;\">\n      <th></th>\n      <th>PatientId</th>\n      <th>AppointmentID</th>\n      <th>Gender</th>\n      <th>ScheduledDay</th>\n      <th>AppointmentDay</th>\n      <th>Age</th>\n      <th>Neighbourhood</th>\n      <th>Scholarship</th>\n      <th>Hipertension</th>\n      <th>Diabetes</th>\n      <th>Alcoholism</th>\n      <th>Handcap</th>\n      <th>SMS_received</th>\n      <th>No-show</th>\n    </tr>\n  </thead>\n  <tbody>\n    <tr>\n      <th>0</th>\n      <td>2.987250e+13</td>\n      <td>5642903</td>\n      <td>F</td>\n      <td>2016-04-29T18:38:08Z</td>\n      <td>2016-04-29T00:00:00Z</td>\n      <td>62</td>\n      <td>JARDIM DA PENHA</td>\n      <td>0</td>\n      <td>1</td>\n      <td>0</td>\n      <td>0</td>\n      <td>0</td>\n      <td>0</td>\n      <td>No</td>\n    </tr>\n    <tr>\n      <th>1</th>\n      <td>5.589978e+14</td>\n      <td>5642503</td>\n      <td>M</td>\n      <td>2016-04-29T16:08:27Z</td>\n      <td>2016-04-29T00:00:00Z</td>\n      <td>56</td>\n      <td>JARDIM DA PENHA</td>\n      <td>0</td>\n      <td>0</td>\n      <td>0</td>\n      <td>0</td>\n      <td>0</td>\n      <td>0</td>\n      <td>No</td>\n    </tr>\n    <tr>\n      <th>2</th>\n      <td>4.262962e+12</td>\n      <td>5642549</td>\n      <td>F</td>\n      <td>2016-04-29T16:19:04Z</td>\n      <td>2016-04-29T00:00:00Z</td>\n      <td>62</td>\n      <td>MATA DA PRAIA</td>\n      <td>0</td>\n      <td>0</td>\n      <td>0</td>\n      <td>0</td>\n      <td>0</td>\n      <td>0</td>\n      <td>No</td>\n    </tr>\n    <tr>\n      <th>3</th>\n      <td>8.679512e+11</td>\n      <td>5642828</td>\n      <td>F</td>\n      <td>2016-04-29T17:29:31Z</td>\n      <td>2016-04-29T00:00:00Z</td>\n      <td>8</td>\n      <td>PONTAL DE CAMBURI</td>\n      <td>0</td>\n      <td>0</td>\n      <td>0</td>\n      <td>0</td>\n      <td>0</td>\n      <td>0</td>\n      <td>No</td>\n    </tr>\n    <tr>\n      <th>4</th>\n      <td>8.841186e+12</td>\n      <td>5642494</td>\n      <td>F</td>\n      <td>2016-04-29T16:07:23Z</td>\n      <td>2016-04-29T00:00:00Z</td>\n      <td>56</td>\n      <td>JARDIM DA PENHA</td>\n      <td>0</td>\n      <td>1</td>\n      <td>1</td>\n      <td>0</td>\n      <td>0</td>\n      <td>0</td>\n      <td>No</td>\n    </tr>\n  </tbody>\n</table>\n</div>"
     },
     "execution_count": 3,
     "metadata": {},
     "output_type": "execute_result"
    }
   ],
   "source": [
    "df.head()"
   ],
   "metadata": {
    "collapsed": false,
    "ExecuteTime": {
     "end_time": "2024-02-20T14:24:56.959347018Z",
     "start_time": "2024-02-20T14:24:56.883924433Z"
    }
   },
   "id": "72163d18d7c9741a",
   "execution_count": 3
  },
  {
   "cell_type": "code",
   "outputs": [
    {
     "data": {
      "text/plain": "          PatientId  AppointmentID            Age    Scholarship  \\\ncount  1.105270e+05   1.105270e+05  110527.000000  110527.000000   \nmean   1.474963e+14   5.675305e+06      37.088874       0.098266   \nstd    2.560949e+14   7.129575e+04      23.110205       0.297675   \nmin    3.921784e+04   5.030230e+06      -1.000000       0.000000   \n25%    4.172614e+12   5.640286e+06      18.000000       0.000000   \n50%    3.173184e+13   5.680573e+06      37.000000       0.000000   \n75%    9.439172e+13   5.725524e+06      55.000000       0.000000   \nmax    9.999816e+14   5.790484e+06     115.000000       1.000000   \n\n        Hipertension       Diabetes     Alcoholism        Handcap  \\\ncount  110527.000000  110527.000000  110527.000000  110527.000000   \nmean        0.197246       0.071865       0.030400       0.022248   \nstd         0.397921       0.258265       0.171686       0.161543   \nmin         0.000000       0.000000       0.000000       0.000000   \n25%         0.000000       0.000000       0.000000       0.000000   \n50%         0.000000       0.000000       0.000000       0.000000   \n75%         0.000000       0.000000       0.000000       0.000000   \nmax         1.000000       1.000000       1.000000       4.000000   \n\n        SMS_received  \ncount  110527.000000  \nmean        0.321026  \nstd         0.466873  \nmin         0.000000  \n25%         0.000000  \n50%         0.000000  \n75%         1.000000  \nmax         1.000000  ",
      "text/html": "<div>\n<style scoped>\n    .dataframe tbody tr th:only-of-type {\n        vertical-align: middle;\n    }\n\n    .dataframe tbody tr th {\n        vertical-align: top;\n    }\n\n    .dataframe thead th {\n        text-align: right;\n    }\n</style>\n<table border=\"1\" class=\"dataframe\">\n  <thead>\n    <tr style=\"text-align: right;\">\n      <th></th>\n      <th>PatientId</th>\n      <th>AppointmentID</th>\n      <th>Age</th>\n      <th>Scholarship</th>\n      <th>Hipertension</th>\n      <th>Diabetes</th>\n      <th>Alcoholism</th>\n      <th>Handcap</th>\n      <th>SMS_received</th>\n    </tr>\n  </thead>\n  <tbody>\n    <tr>\n      <th>count</th>\n      <td>1.105270e+05</td>\n      <td>1.105270e+05</td>\n      <td>110527.000000</td>\n      <td>110527.000000</td>\n      <td>110527.000000</td>\n      <td>110527.000000</td>\n      <td>110527.000000</td>\n      <td>110527.000000</td>\n      <td>110527.000000</td>\n    </tr>\n    <tr>\n      <th>mean</th>\n      <td>1.474963e+14</td>\n      <td>5.675305e+06</td>\n      <td>37.088874</td>\n      <td>0.098266</td>\n      <td>0.197246</td>\n      <td>0.071865</td>\n      <td>0.030400</td>\n      <td>0.022248</td>\n      <td>0.321026</td>\n    </tr>\n    <tr>\n      <th>std</th>\n      <td>2.560949e+14</td>\n      <td>7.129575e+04</td>\n      <td>23.110205</td>\n      <td>0.297675</td>\n      <td>0.397921</td>\n      <td>0.258265</td>\n      <td>0.171686</td>\n      <td>0.161543</td>\n      <td>0.466873</td>\n    </tr>\n    <tr>\n      <th>min</th>\n      <td>3.921784e+04</td>\n      <td>5.030230e+06</td>\n      <td>-1.000000</td>\n      <td>0.000000</td>\n      <td>0.000000</td>\n      <td>0.000000</td>\n      <td>0.000000</td>\n      <td>0.000000</td>\n      <td>0.000000</td>\n    </tr>\n    <tr>\n      <th>25%</th>\n      <td>4.172614e+12</td>\n      <td>5.640286e+06</td>\n      <td>18.000000</td>\n      <td>0.000000</td>\n      <td>0.000000</td>\n      <td>0.000000</td>\n      <td>0.000000</td>\n      <td>0.000000</td>\n      <td>0.000000</td>\n    </tr>\n    <tr>\n      <th>50%</th>\n      <td>3.173184e+13</td>\n      <td>5.680573e+06</td>\n      <td>37.000000</td>\n      <td>0.000000</td>\n      <td>0.000000</td>\n      <td>0.000000</td>\n      <td>0.000000</td>\n      <td>0.000000</td>\n      <td>0.000000</td>\n    </tr>\n    <tr>\n      <th>75%</th>\n      <td>9.439172e+13</td>\n      <td>5.725524e+06</td>\n      <td>55.000000</td>\n      <td>0.000000</td>\n      <td>0.000000</td>\n      <td>0.000000</td>\n      <td>0.000000</td>\n      <td>0.000000</td>\n      <td>1.000000</td>\n    </tr>\n    <tr>\n      <th>max</th>\n      <td>9.999816e+14</td>\n      <td>5.790484e+06</td>\n      <td>115.000000</td>\n      <td>1.000000</td>\n      <td>1.000000</td>\n      <td>1.000000</td>\n      <td>1.000000</td>\n      <td>4.000000</td>\n      <td>1.000000</td>\n    </tr>\n  </tbody>\n</table>\n</div>"
     },
     "execution_count": 4,
     "metadata": {},
     "output_type": "execute_result"
    }
   ],
   "source": [
    "df.describe()"
   ],
   "metadata": {
    "collapsed": false,
    "ExecuteTime": {
     "end_time": "2024-02-20T14:24:56.977171830Z",
     "start_time": "2024-02-20T14:24:56.885179361Z"
    }
   },
   "id": "ecc24b864d3e3578",
   "execution_count": 4
  },
  {
   "cell_type": "markdown",
   "source": [
    "We have 14 columns, and 110527 rows."
   ],
   "metadata": {
    "collapsed": false
   },
   "id": "3d40d901547f95f4"
  },
  {
   "cell_type": "code",
   "outputs": [
    {
     "data": {
      "text/plain": "0"
     },
     "execution_count": 5,
     "metadata": {},
     "output_type": "execute_result"
    }
   ],
   "source": [
    "df.duplicated().sum()"
   ],
   "metadata": {
    "collapsed": false,
    "ExecuteTime": {
     "end_time": "2024-02-20T14:24:57.069316337Z",
     "start_time": "2024-02-20T14:24:56.946277337Z"
    }
   },
   "id": "b9978a2ad49ac7c1",
   "execution_count": 5
  },
  {
   "cell_type": "markdown",
   "source": [
    "We have no duplicated rows.\n",
    "Now let's fix that column name and check for missing values."
   ],
   "metadata": {
    "collapsed": false
   },
   "id": "632525778f444e78"
  },
  {
   "cell_type": "code",
   "outputs": [
    {
     "data": {
      "text/plain": "      patientid  appointmentid gender          scheduledday  \\\n0  2.987250e+13        5642903      F  2016-04-29T18:38:08Z   \n1  5.589978e+14        5642503      M  2016-04-29T16:08:27Z   \n2  4.262962e+12        5642549      F  2016-04-29T16:19:04Z   \n3  8.679512e+11        5642828      F  2016-04-29T17:29:31Z   \n4  8.841186e+12        5642494      F  2016-04-29T16:07:23Z   \n\n         appointmentday  age      neighbourhood  scholarship  hypertension  \\\n0  2016-04-29T00:00:00Z   62    JARDIM DA PENHA            0             1   \n1  2016-04-29T00:00:00Z   56    JARDIM DA PENHA            0             0   \n2  2016-04-29T00:00:00Z   62      MATA DA PRAIA            0             0   \n3  2016-04-29T00:00:00Z    8  PONTAL DE CAMBURI            0             0   \n4  2016-04-29T00:00:00Z   56    JARDIM DA PENHA            0             1   \n\n   diabetes  alcoholism  handicap  sms_received no_show  \n0         0           0         0             0      No  \n1         0           0         0             0      No  \n2         0           0         0             0      No  \n3         0           0         0             0      No  \n4         1           0         0             0      No  ",
      "text/html": "<div>\n<style scoped>\n    .dataframe tbody tr th:only-of-type {\n        vertical-align: middle;\n    }\n\n    .dataframe tbody tr th {\n        vertical-align: top;\n    }\n\n    .dataframe thead th {\n        text-align: right;\n    }\n</style>\n<table border=\"1\" class=\"dataframe\">\n  <thead>\n    <tr style=\"text-align: right;\">\n      <th></th>\n      <th>patientid</th>\n      <th>appointmentid</th>\n      <th>gender</th>\n      <th>scheduledday</th>\n      <th>appointmentday</th>\n      <th>age</th>\n      <th>neighbourhood</th>\n      <th>scholarship</th>\n      <th>hypertension</th>\n      <th>diabetes</th>\n      <th>alcoholism</th>\n      <th>handicap</th>\n      <th>sms_received</th>\n      <th>no_show</th>\n    </tr>\n  </thead>\n  <tbody>\n    <tr>\n      <th>0</th>\n      <td>2.987250e+13</td>\n      <td>5642903</td>\n      <td>F</td>\n      <td>2016-04-29T18:38:08Z</td>\n      <td>2016-04-29T00:00:00Z</td>\n      <td>62</td>\n      <td>JARDIM DA PENHA</td>\n      <td>0</td>\n      <td>1</td>\n      <td>0</td>\n      <td>0</td>\n      <td>0</td>\n      <td>0</td>\n      <td>No</td>\n    </tr>\n    <tr>\n      <th>1</th>\n      <td>5.589978e+14</td>\n      <td>5642503</td>\n      <td>M</td>\n      <td>2016-04-29T16:08:27Z</td>\n      <td>2016-04-29T00:00:00Z</td>\n      <td>56</td>\n      <td>JARDIM DA PENHA</td>\n      <td>0</td>\n      <td>0</td>\n      <td>0</td>\n      <td>0</td>\n      <td>0</td>\n      <td>0</td>\n      <td>No</td>\n    </tr>\n    <tr>\n      <th>2</th>\n      <td>4.262962e+12</td>\n      <td>5642549</td>\n      <td>F</td>\n      <td>2016-04-29T16:19:04Z</td>\n      <td>2016-04-29T00:00:00Z</td>\n      <td>62</td>\n      <td>MATA DA PRAIA</td>\n      <td>0</td>\n      <td>0</td>\n      <td>0</td>\n      <td>0</td>\n      <td>0</td>\n      <td>0</td>\n      <td>No</td>\n    </tr>\n    <tr>\n      <th>3</th>\n      <td>8.679512e+11</td>\n      <td>5642828</td>\n      <td>F</td>\n      <td>2016-04-29T17:29:31Z</td>\n      <td>2016-04-29T00:00:00Z</td>\n      <td>8</td>\n      <td>PONTAL DE CAMBURI</td>\n      <td>0</td>\n      <td>0</td>\n      <td>0</td>\n      <td>0</td>\n      <td>0</td>\n      <td>0</td>\n      <td>No</td>\n    </tr>\n    <tr>\n      <th>4</th>\n      <td>8.841186e+12</td>\n      <td>5642494</td>\n      <td>F</td>\n      <td>2016-04-29T16:07:23Z</td>\n      <td>2016-04-29T00:00:00Z</td>\n      <td>56</td>\n      <td>JARDIM DA PENHA</td>\n      <td>0</td>\n      <td>1</td>\n      <td>1</td>\n      <td>0</td>\n      <td>0</td>\n      <td>0</td>\n      <td>No</td>\n    </tr>\n  </tbody>\n</table>\n</div>"
     },
     "execution_count": 6,
     "metadata": {},
     "output_type": "execute_result"
    }
   ],
   "source": [
    "df.rename(columns={'Hipertension':'Hypertension', 'Handcap':'Handicap'}, inplace=True)\n",
    "df.columns = df.columns.str.lower().str.replace('-', '_')\n",
    "\n",
    "df.head()"
   ],
   "metadata": {
    "collapsed": false,
    "ExecuteTime": {
     "end_time": "2024-02-20T14:24:57.072149110Z",
     "start_time": "2024-02-20T14:24:57.003729530Z"
    }
   },
   "id": "65b039734830401a",
   "execution_count": 6
  },
  {
   "cell_type": "code",
   "outputs": [
    {
     "data": {
      "text/plain": "          patientid  appointmentid gender          scheduledday  \\\n99832  4.659432e+14        5775010      F  2016-06-06T08:58:13Z   \n\n             appointmentday  age neighbourhood  scholarship  hypertension  \\\n99832  2016-06-06T00:00:00Z   -1         ROMÃO            0             0   \n\n       diabetes  alcoholism  handicap  sms_received no_show  \n99832         0           0         0             0      No  ",
      "text/html": "<div>\n<style scoped>\n    .dataframe tbody tr th:only-of-type {\n        vertical-align: middle;\n    }\n\n    .dataframe tbody tr th {\n        vertical-align: top;\n    }\n\n    .dataframe thead th {\n        text-align: right;\n    }\n</style>\n<table border=\"1\" class=\"dataframe\">\n  <thead>\n    <tr style=\"text-align: right;\">\n      <th></th>\n      <th>patientid</th>\n      <th>appointmentid</th>\n      <th>gender</th>\n      <th>scheduledday</th>\n      <th>appointmentday</th>\n      <th>age</th>\n      <th>neighbourhood</th>\n      <th>scholarship</th>\n      <th>hypertension</th>\n      <th>diabetes</th>\n      <th>alcoholism</th>\n      <th>handicap</th>\n      <th>sms_received</th>\n      <th>no_show</th>\n    </tr>\n  </thead>\n  <tbody>\n    <tr>\n      <th>99832</th>\n      <td>4.659432e+14</td>\n      <td>5775010</td>\n      <td>F</td>\n      <td>2016-06-06T08:58:13Z</td>\n      <td>2016-06-06T00:00:00Z</td>\n      <td>-1</td>\n      <td>ROMÃO</td>\n      <td>0</td>\n      <td>0</td>\n      <td>0</td>\n      <td>0</td>\n      <td>0</td>\n      <td>0</td>\n      <td>No</td>\n    </tr>\n  </tbody>\n</table>\n</div>"
     },
     "execution_count": 7,
     "metadata": {},
     "output_type": "execute_result"
    }
   ],
   "source": [
    "df.query('age < 0')"
   ],
   "metadata": {
    "collapsed": false,
    "ExecuteTime": {
     "end_time": "2024-02-20T14:24:57.073545534Z",
     "start_time": "2024-02-20T14:24:57.010288005Z"
    }
   },
   "id": "5679e5dee5cbc9c2",
   "execution_count": 7
  },
  {
   "cell_type": "code",
   "outputs": [
    {
     "data": {
      "text/plain": "110526"
     },
     "execution_count": 8,
     "metadata": {},
     "output_type": "execute_result"
    }
   ],
   "source": [
    "df.drop(df.query('age < 0').index, inplace=True)\n",
    "\n",
    "df['appointmentid'].count()"
   ],
   "metadata": {
    "collapsed": false,
    "ExecuteTime": {
     "end_time": "2024-02-20T14:24:57.107823144Z",
     "start_time": "2024-02-20T14:24:57.021532539Z"
    }
   },
   "id": "c590e2cf2161756a",
   "execution_count": 8
  },
  {
   "cell_type": "markdown",
   "source": [
    "The data is now clean.\n",
    "\n",
    "# The analysis\n"
   ],
   "metadata": {
    "collapsed": false
   },
   "id": "31f910f8192b40ee"
  },
  {
   "cell_type": "markdown",
   "source": [
    "Let's prepare the data"
   ],
   "metadata": {
    "collapsed": false
   },
   "id": "70d378f2e01147fd"
  },
  {
   "cell_type": "code",
   "outputs": [
    {
     "data": {
      "text/plain": "        gender  scheduledday  appointmentday       age  neighbourhood  \\\n0          0.0      0.267907        0.000000  0.607843         0.4875   \n1          1.0      0.265609        0.000000  0.549020         0.4875   \n2          0.0      0.265947        0.000000  0.607843         0.5625   \n3          0.0      0.267589        0.000000  0.078431         0.6750   \n4          0.0      0.265551        0.000000  0.549020         0.4875   \n...        ...           ...             ...       ...            ...   \n110521     0.0      0.320454        0.961538  0.549020         0.5375   \n110522     0.0      0.310844        0.961538  0.500000         0.5375   \n110523     0.0      0.207983        0.961538  0.205882         0.5375   \n110524     0.0      0.206660        0.961538  0.372549         0.5375   \n110525     0.0      0.202990        0.961538  0.529412         0.5375   \n\n        scholarship  hypertension  diabetes  alcoholism  handicap  \\\n0               0.0           1.0       0.0         0.0       0.0   \n1               0.0           0.0       0.0         0.0       0.0   \n2               0.0           0.0       0.0         0.0       0.0   \n3               0.0           0.0       0.0         0.0       0.0   \n4               0.0           1.0       1.0         0.0       0.0   \n...             ...           ...       ...         ...       ...   \n110521          0.0           0.0       0.0         0.0       0.0   \n110522          0.0           0.0       0.0         0.0       0.0   \n110523          0.0           0.0       0.0         0.0       0.0   \n110524          0.0           0.0       0.0         0.0       0.0   \n110525          0.0           0.0       0.0         0.0       0.0   \n\n        sms_received  \n0                0.0  \n1                0.0  \n2                0.0  \n3                0.0  \n4                0.0  \n...              ...  \n110521           1.0  \n110522           1.0  \n110523           1.0  \n110524           1.0  \n110525           1.0  \n\n[110526 rows x 11 columns]",
      "text/html": "<div>\n<style scoped>\n    .dataframe tbody tr th:only-of-type {\n        vertical-align: middle;\n    }\n\n    .dataframe tbody tr th {\n        vertical-align: top;\n    }\n\n    .dataframe thead th {\n        text-align: right;\n    }\n</style>\n<table border=\"1\" class=\"dataframe\">\n  <thead>\n    <tr style=\"text-align: right;\">\n      <th></th>\n      <th>gender</th>\n      <th>scheduledday</th>\n      <th>appointmentday</th>\n      <th>age</th>\n      <th>neighbourhood</th>\n      <th>scholarship</th>\n      <th>hypertension</th>\n      <th>diabetes</th>\n      <th>alcoholism</th>\n      <th>handicap</th>\n      <th>sms_received</th>\n    </tr>\n  </thead>\n  <tbody>\n    <tr>\n      <th>0</th>\n      <td>0.0</td>\n      <td>0.267907</td>\n      <td>0.000000</td>\n      <td>0.607843</td>\n      <td>0.4875</td>\n      <td>0.0</td>\n      <td>1.0</td>\n      <td>0.0</td>\n      <td>0.0</td>\n      <td>0.0</td>\n      <td>0.0</td>\n    </tr>\n    <tr>\n      <th>1</th>\n      <td>1.0</td>\n      <td>0.265609</td>\n      <td>0.000000</td>\n      <td>0.549020</td>\n      <td>0.4875</td>\n      <td>0.0</td>\n      <td>0.0</td>\n      <td>0.0</td>\n      <td>0.0</td>\n      <td>0.0</td>\n      <td>0.0</td>\n    </tr>\n    <tr>\n      <th>2</th>\n      <td>0.0</td>\n      <td>0.265947</td>\n      <td>0.000000</td>\n      <td>0.607843</td>\n      <td>0.5625</td>\n      <td>0.0</td>\n      <td>0.0</td>\n      <td>0.0</td>\n      <td>0.0</td>\n      <td>0.0</td>\n      <td>0.0</td>\n    </tr>\n    <tr>\n      <th>3</th>\n      <td>0.0</td>\n      <td>0.267589</td>\n      <td>0.000000</td>\n      <td>0.078431</td>\n      <td>0.6750</td>\n      <td>0.0</td>\n      <td>0.0</td>\n      <td>0.0</td>\n      <td>0.0</td>\n      <td>0.0</td>\n      <td>0.0</td>\n    </tr>\n    <tr>\n      <th>4</th>\n      <td>0.0</td>\n      <td>0.265551</td>\n      <td>0.000000</td>\n      <td>0.549020</td>\n      <td>0.4875</td>\n      <td>0.0</td>\n      <td>1.0</td>\n      <td>1.0</td>\n      <td>0.0</td>\n      <td>0.0</td>\n      <td>0.0</td>\n    </tr>\n    <tr>\n      <th>...</th>\n      <td>...</td>\n      <td>...</td>\n      <td>...</td>\n      <td>...</td>\n      <td>...</td>\n      <td>...</td>\n      <td>...</td>\n      <td>...</td>\n      <td>...</td>\n      <td>...</td>\n      <td>...</td>\n    </tr>\n    <tr>\n      <th>110521</th>\n      <td>0.0</td>\n      <td>0.320454</td>\n      <td>0.961538</td>\n      <td>0.549020</td>\n      <td>0.5375</td>\n      <td>0.0</td>\n      <td>0.0</td>\n      <td>0.0</td>\n      <td>0.0</td>\n      <td>0.0</td>\n      <td>1.0</td>\n    </tr>\n    <tr>\n      <th>110522</th>\n      <td>0.0</td>\n      <td>0.310844</td>\n      <td>0.961538</td>\n      <td>0.500000</td>\n      <td>0.5375</td>\n      <td>0.0</td>\n      <td>0.0</td>\n      <td>0.0</td>\n      <td>0.0</td>\n      <td>0.0</td>\n      <td>1.0</td>\n    </tr>\n    <tr>\n      <th>110523</th>\n      <td>0.0</td>\n      <td>0.207983</td>\n      <td>0.961538</td>\n      <td>0.205882</td>\n      <td>0.5375</td>\n      <td>0.0</td>\n      <td>0.0</td>\n      <td>0.0</td>\n      <td>0.0</td>\n      <td>0.0</td>\n      <td>1.0</td>\n    </tr>\n    <tr>\n      <th>110524</th>\n      <td>0.0</td>\n      <td>0.206660</td>\n      <td>0.961538</td>\n      <td>0.372549</td>\n      <td>0.5375</td>\n      <td>0.0</td>\n      <td>0.0</td>\n      <td>0.0</td>\n      <td>0.0</td>\n      <td>0.0</td>\n      <td>1.0</td>\n    </tr>\n    <tr>\n      <th>110525</th>\n      <td>0.0</td>\n      <td>0.202990</td>\n      <td>0.961538</td>\n      <td>0.529412</td>\n      <td>0.5375</td>\n      <td>0.0</td>\n      <td>0.0</td>\n      <td>0.0</td>\n      <td>0.0</td>\n      <td>0.0</td>\n      <td>1.0</td>\n    </tr>\n  </tbody>\n</table>\n<p>110526 rows × 11 columns</p>\n</div>"
     },
     "execution_count": 12,
     "metadata": {},
     "output_type": "execute_result"
    }
   ],
   "source": [
    "from sklearn.preprocessing import MinMaxScaler, LabelEncoder\n",
    "\n",
    "X = df.drop(['no_show', 'appointmentid', 'patientid'], axis=1)\n",
    "\n",
    "y = df['no_show'].map({'No': 0, 'Yes': 1})\n",
    "\n",
    "encoder = LabelEncoder()\n",
    "features = X.columns\n",
    "X = X.apply(encoder.fit_transform)\n",
    "\n",
    "scaler = MinMaxScaler()\n",
    "X = scaler.fit_transform(X)\n",
    "\n",
    "X = pd.DataFrame(X, columns=features)\n",
    "X"
   ],
   "metadata": {
    "collapsed": false,
    "ExecuteTime": {
     "end_time": "2024-02-20T14:28:19.590681935Z",
     "start_time": "2024-02-20T14:28:19.158442828Z"
    }
   },
   "id": "3671f21cf9dd4c21",
   "execution_count": 12
  },
  {
   "cell_type": "code",
   "outputs": [
    {
     "ename": "KeyboardInterrupt",
     "evalue": "",
     "output_type": "error",
     "traceback": [
      "\u001B[0;31m---------------------------------------------------------------------------\u001B[0m",
      "\u001B[0;31mKeyboardInterrupt\u001B[0m                         Traceback (most recent call last)",
      "Cell \u001B[0;32mIn[13], line 5\u001B[0m\n\u001B[1;32m      2\u001B[0m \u001B[38;5;28;01mfrom\u001B[39;00m \u001B[38;5;21;01msklearn\u001B[39;00m\u001B[38;5;21;01m.\u001B[39;00m\u001B[38;5;21;01mmanifold\u001B[39;00m \u001B[38;5;28;01mimport\u001B[39;00m TSNE\n\u001B[1;32m      4\u001B[0m tsne \u001B[38;5;241m=\u001B[39m TSNE(n_components\u001B[38;5;241m=\u001B[39m\u001B[38;5;241m2\u001B[39m, random_state\u001B[38;5;241m=\u001B[39m\u001B[38;5;241m42\u001B[39m)\n\u001B[0;32m----> 5\u001B[0m X_reduced \u001B[38;5;241m=\u001B[39m \u001B[43mtsne\u001B[49m\u001B[38;5;241;43m.\u001B[39;49m\u001B[43mfit_transform\u001B[49m\u001B[43m(\u001B[49m\u001B[43mX\u001B[49m\u001B[43m)\u001B[49m\n\u001B[1;32m      6\u001B[0m plt\u001B[38;5;241m.\u001B[39mfigure(figsize\u001B[38;5;241m=\u001B[39m(\u001B[38;5;241m13\u001B[39m,\u001B[38;5;241m10\u001B[39m))\n\u001B[1;32m      7\u001B[0m plt\u001B[38;5;241m.\u001B[39mscatter(X_reduced[:, \u001B[38;5;241m0\u001B[39m], X_reduced[:, \u001B[38;5;241m1\u001B[39m], c\u001B[38;5;241m=\u001B[39my, cmap\u001B[38;5;241m=\u001B[39m\u001B[38;5;124m\"\u001B[39m\u001B[38;5;124mjet\u001B[39m\u001B[38;5;124m\"\u001B[39m)\n",
      "File \u001B[0;32m~/Documents/INSA/S6/ApprAuto/tp02/.venv/lib/python3.11/site-packages/sklearn/utils/_set_output.py:295\u001B[0m, in \u001B[0;36m_wrap_method_output.<locals>.wrapped\u001B[0;34m(self, X, *args, **kwargs)\u001B[0m\n\u001B[1;32m    293\u001B[0m \u001B[38;5;129m@wraps\u001B[39m(f)\n\u001B[1;32m    294\u001B[0m \u001B[38;5;28;01mdef\u001B[39;00m \u001B[38;5;21mwrapped\u001B[39m(\u001B[38;5;28mself\u001B[39m, X, \u001B[38;5;241m*\u001B[39margs, \u001B[38;5;241m*\u001B[39m\u001B[38;5;241m*\u001B[39mkwargs):\n\u001B[0;32m--> 295\u001B[0m     data_to_wrap \u001B[38;5;241m=\u001B[39m \u001B[43mf\u001B[49m\u001B[43m(\u001B[49m\u001B[38;5;28;43mself\u001B[39;49m\u001B[43m,\u001B[49m\u001B[43m \u001B[49m\u001B[43mX\u001B[49m\u001B[43m,\u001B[49m\u001B[43m \u001B[49m\u001B[38;5;241;43m*\u001B[39;49m\u001B[43margs\u001B[49m\u001B[43m,\u001B[49m\u001B[43m \u001B[49m\u001B[38;5;241;43m*\u001B[39;49m\u001B[38;5;241;43m*\u001B[39;49m\u001B[43mkwargs\u001B[49m\u001B[43m)\u001B[49m\n\u001B[1;32m    296\u001B[0m     \u001B[38;5;28;01mif\u001B[39;00m \u001B[38;5;28misinstance\u001B[39m(data_to_wrap, \u001B[38;5;28mtuple\u001B[39m):\n\u001B[1;32m    297\u001B[0m         \u001B[38;5;66;03m# only wrap the first output for cross decomposition\u001B[39;00m\n\u001B[1;32m    298\u001B[0m         return_tuple \u001B[38;5;241m=\u001B[39m (\n\u001B[1;32m    299\u001B[0m             _wrap_data_with_container(method, data_to_wrap[\u001B[38;5;241m0\u001B[39m], X, \u001B[38;5;28mself\u001B[39m),\n\u001B[1;32m    300\u001B[0m             \u001B[38;5;241m*\u001B[39mdata_to_wrap[\u001B[38;5;241m1\u001B[39m:],\n\u001B[1;32m    301\u001B[0m         )\n",
      "File \u001B[0;32m~/Documents/INSA/S6/ApprAuto/tp02/.venv/lib/python3.11/site-packages/sklearn/base.py:1474\u001B[0m, in \u001B[0;36m_fit_context.<locals>.decorator.<locals>.wrapper\u001B[0;34m(estimator, *args, **kwargs)\u001B[0m\n\u001B[1;32m   1467\u001B[0m     estimator\u001B[38;5;241m.\u001B[39m_validate_params()\n\u001B[1;32m   1469\u001B[0m \u001B[38;5;28;01mwith\u001B[39;00m config_context(\n\u001B[1;32m   1470\u001B[0m     skip_parameter_validation\u001B[38;5;241m=\u001B[39m(\n\u001B[1;32m   1471\u001B[0m         prefer_skip_nested_validation \u001B[38;5;129;01mor\u001B[39;00m global_skip_validation\n\u001B[1;32m   1472\u001B[0m     )\n\u001B[1;32m   1473\u001B[0m ):\n\u001B[0;32m-> 1474\u001B[0m     \u001B[38;5;28;01mreturn\u001B[39;00m \u001B[43mfit_method\u001B[49m\u001B[43m(\u001B[49m\u001B[43mestimator\u001B[49m\u001B[43m,\u001B[49m\u001B[43m \u001B[49m\u001B[38;5;241;43m*\u001B[39;49m\u001B[43margs\u001B[49m\u001B[43m,\u001B[49m\u001B[43m \u001B[49m\u001B[38;5;241;43m*\u001B[39;49m\u001B[38;5;241;43m*\u001B[39;49m\u001B[43mkwargs\u001B[49m\u001B[43m)\u001B[49m\n",
      "File \u001B[0;32m~/Documents/INSA/S6/ApprAuto/tp02/.venv/lib/python3.11/site-packages/sklearn/manifold/_t_sne.py:1136\u001B[0m, in \u001B[0;36mTSNE.fit_transform\u001B[0;34m(self, X, y)\u001B[0m\n\u001B[1;32m   1115\u001B[0m \u001B[38;5;250m\u001B[39m\u001B[38;5;124;03m\"\"\"Fit X into an embedded space and return that transformed output.\u001B[39;00m\n\u001B[1;32m   1116\u001B[0m \n\u001B[1;32m   1117\u001B[0m \u001B[38;5;124;03mParameters\u001B[39;00m\n\u001B[0;32m   (...)\u001B[0m\n\u001B[1;32m   1133\u001B[0m \u001B[38;5;124;03m    Embedding of the training data in low-dimensional space.\u001B[39;00m\n\u001B[1;32m   1134\u001B[0m \u001B[38;5;124;03m\"\"\"\u001B[39;00m\n\u001B[1;32m   1135\u001B[0m \u001B[38;5;28mself\u001B[39m\u001B[38;5;241m.\u001B[39m_check_params_vs_input(X)\n\u001B[0;32m-> 1136\u001B[0m embedding \u001B[38;5;241m=\u001B[39m \u001B[38;5;28;43mself\u001B[39;49m\u001B[38;5;241;43m.\u001B[39;49m\u001B[43m_fit\u001B[49m\u001B[43m(\u001B[49m\u001B[43mX\u001B[49m\u001B[43m)\u001B[49m\n\u001B[1;32m   1137\u001B[0m \u001B[38;5;28mself\u001B[39m\u001B[38;5;241m.\u001B[39membedding_ \u001B[38;5;241m=\u001B[39m embedding\n\u001B[1;32m   1138\u001B[0m \u001B[38;5;28;01mreturn\u001B[39;00m \u001B[38;5;28mself\u001B[39m\u001B[38;5;241m.\u001B[39membedding_\n",
      "File \u001B[0;32m~/Documents/INSA/S6/ApprAuto/tp02/.venv/lib/python3.11/site-packages/sklearn/manifold/_t_sne.py:1026\u001B[0m, in \u001B[0;36mTSNE._fit\u001B[0;34m(self, X, skip_num_points)\u001B[0m\n\u001B[1;32m   1020\u001B[0m \u001B[38;5;66;03m# Degrees of freedom of the Student's t-distribution. The suggestion\u001B[39;00m\n\u001B[1;32m   1021\u001B[0m \u001B[38;5;66;03m# degrees_of_freedom = n_components - 1 comes from\u001B[39;00m\n\u001B[1;32m   1022\u001B[0m \u001B[38;5;66;03m# \"Learning a Parametric Embedding by Preserving Local Structure\"\u001B[39;00m\n\u001B[1;32m   1023\u001B[0m \u001B[38;5;66;03m# Laurens van der Maaten, 2009.\u001B[39;00m\n\u001B[1;32m   1024\u001B[0m degrees_of_freedom \u001B[38;5;241m=\u001B[39m \u001B[38;5;28mmax\u001B[39m(\u001B[38;5;28mself\u001B[39m\u001B[38;5;241m.\u001B[39mn_components \u001B[38;5;241m-\u001B[39m \u001B[38;5;241m1\u001B[39m, \u001B[38;5;241m1\u001B[39m)\n\u001B[0;32m-> 1026\u001B[0m \u001B[38;5;28;01mreturn\u001B[39;00m \u001B[38;5;28;43mself\u001B[39;49m\u001B[38;5;241;43m.\u001B[39;49m\u001B[43m_tsne\u001B[49m\u001B[43m(\u001B[49m\n\u001B[1;32m   1027\u001B[0m \u001B[43m    \u001B[49m\u001B[43mP\u001B[49m\u001B[43m,\u001B[49m\n\u001B[1;32m   1028\u001B[0m \u001B[43m    \u001B[49m\u001B[43mdegrees_of_freedom\u001B[49m\u001B[43m,\u001B[49m\n\u001B[1;32m   1029\u001B[0m \u001B[43m    \u001B[49m\u001B[43mn_samples\u001B[49m\u001B[43m,\u001B[49m\n\u001B[1;32m   1030\u001B[0m \u001B[43m    \u001B[49m\u001B[43mX_embedded\u001B[49m\u001B[38;5;241;43m=\u001B[39;49m\u001B[43mX_embedded\u001B[49m\u001B[43m,\u001B[49m\n\u001B[1;32m   1031\u001B[0m \u001B[43m    \u001B[49m\u001B[43mneighbors\u001B[49m\u001B[38;5;241;43m=\u001B[39;49m\u001B[43mneighbors_nn\u001B[49m\u001B[43m,\u001B[49m\n\u001B[1;32m   1032\u001B[0m \u001B[43m    \u001B[49m\u001B[43mskip_num_points\u001B[49m\u001B[38;5;241;43m=\u001B[39;49m\u001B[43mskip_num_points\u001B[49m\u001B[43m,\u001B[49m\n\u001B[1;32m   1033\u001B[0m \u001B[43m\u001B[49m\u001B[43m)\u001B[49m\n",
      "File \u001B[0;32m~/Documents/INSA/S6/ApprAuto/tp02/.venv/lib/python3.11/site-packages/sklearn/manifold/_t_sne.py:1094\u001B[0m, in \u001B[0;36mTSNE._tsne\u001B[0;34m(self, P, degrees_of_freedom, n_samples, X_embedded, neighbors, skip_num_points)\u001B[0m\n\u001B[1;32m   1092\u001B[0m     opt_args[\u001B[38;5;124m\"\u001B[39m\u001B[38;5;124mmomentum\u001B[39m\u001B[38;5;124m\"\u001B[39m] \u001B[38;5;241m=\u001B[39m \u001B[38;5;241m0.8\u001B[39m\n\u001B[1;32m   1093\u001B[0m     opt_args[\u001B[38;5;124m\"\u001B[39m\u001B[38;5;124mn_iter_without_progress\u001B[39m\u001B[38;5;124m\"\u001B[39m] \u001B[38;5;241m=\u001B[39m \u001B[38;5;28mself\u001B[39m\u001B[38;5;241m.\u001B[39mn_iter_without_progress\n\u001B[0;32m-> 1094\u001B[0m     params, kl_divergence, it \u001B[38;5;241m=\u001B[39m \u001B[43m_gradient_descent\u001B[49m\u001B[43m(\u001B[49m\u001B[43mobj_func\u001B[49m\u001B[43m,\u001B[49m\u001B[43m \u001B[49m\u001B[43mparams\u001B[49m\u001B[43m,\u001B[49m\u001B[43m \u001B[49m\u001B[38;5;241;43m*\u001B[39;49m\u001B[38;5;241;43m*\u001B[39;49m\u001B[43mopt_args\u001B[49m\u001B[43m)\u001B[49m\n\u001B[1;32m   1096\u001B[0m \u001B[38;5;66;03m# Save the final number of iterations\u001B[39;00m\n\u001B[1;32m   1097\u001B[0m \u001B[38;5;28mself\u001B[39m\u001B[38;5;241m.\u001B[39mn_iter_ \u001B[38;5;241m=\u001B[39m it\n",
      "File \u001B[0;32m~/Documents/INSA/S6/ApprAuto/tp02/.venv/lib/python3.11/site-packages/sklearn/manifold/_t_sne.py:402\u001B[0m, in \u001B[0;36m_gradient_descent\u001B[0;34m(objective, p0, it, n_iter, n_iter_check, n_iter_without_progress, momentum, learning_rate, min_gain, min_grad_norm, verbose, args, kwargs)\u001B[0m\n\u001B[1;32m    399\u001B[0m \u001B[38;5;66;03m# only compute the error when needed\u001B[39;00m\n\u001B[1;32m    400\u001B[0m kwargs[\u001B[38;5;124m\"\u001B[39m\u001B[38;5;124mcompute_error\u001B[39m\u001B[38;5;124m\"\u001B[39m] \u001B[38;5;241m=\u001B[39m check_convergence \u001B[38;5;129;01mor\u001B[39;00m i \u001B[38;5;241m==\u001B[39m n_iter \u001B[38;5;241m-\u001B[39m \u001B[38;5;241m1\u001B[39m\n\u001B[0;32m--> 402\u001B[0m error, grad \u001B[38;5;241m=\u001B[39m \u001B[43mobjective\u001B[49m\u001B[43m(\u001B[49m\u001B[43mp\u001B[49m\u001B[43m,\u001B[49m\u001B[43m \u001B[49m\u001B[38;5;241;43m*\u001B[39;49m\u001B[43margs\u001B[49m\u001B[43m,\u001B[49m\u001B[43m \u001B[49m\u001B[38;5;241;43m*\u001B[39;49m\u001B[38;5;241;43m*\u001B[39;49m\u001B[43mkwargs\u001B[49m\u001B[43m)\u001B[49m\n\u001B[1;32m    404\u001B[0m inc \u001B[38;5;241m=\u001B[39m update \u001B[38;5;241m*\u001B[39m grad \u001B[38;5;241m<\u001B[39m \u001B[38;5;241m0.0\u001B[39m\n\u001B[1;32m    405\u001B[0m dec \u001B[38;5;241m=\u001B[39m np\u001B[38;5;241m.\u001B[39minvert(inc)\n",
      "File \u001B[0;32m~/Documents/INSA/S6/ApprAuto/tp02/.venv/lib/python3.11/site-packages/sklearn/manifold/_t_sne.py:283\u001B[0m, in \u001B[0;36m_kl_divergence_bh\u001B[0;34m(params, P, degrees_of_freedom, n_samples, n_components, angle, skip_num_points, verbose, compute_error, num_threads)\u001B[0m\n\u001B[1;32m    280\u001B[0m indptr \u001B[38;5;241m=\u001B[39m P\u001B[38;5;241m.\u001B[39mindptr\u001B[38;5;241m.\u001B[39mastype(np\u001B[38;5;241m.\u001B[39mint64, copy\u001B[38;5;241m=\u001B[39m\u001B[38;5;28;01mFalse\u001B[39;00m)\n\u001B[1;32m    282\u001B[0m grad \u001B[38;5;241m=\u001B[39m np\u001B[38;5;241m.\u001B[39mzeros(X_embedded\u001B[38;5;241m.\u001B[39mshape, dtype\u001B[38;5;241m=\u001B[39mnp\u001B[38;5;241m.\u001B[39mfloat32)\n\u001B[0;32m--> 283\u001B[0m error \u001B[38;5;241m=\u001B[39m \u001B[43m_barnes_hut_tsne\u001B[49m\u001B[38;5;241;43m.\u001B[39;49m\u001B[43mgradient\u001B[49m\u001B[43m(\u001B[49m\n\u001B[1;32m    284\u001B[0m \u001B[43m    \u001B[49m\u001B[43mval_P\u001B[49m\u001B[43m,\u001B[49m\n\u001B[1;32m    285\u001B[0m \u001B[43m    \u001B[49m\u001B[43mX_embedded\u001B[49m\u001B[43m,\u001B[49m\n\u001B[1;32m    286\u001B[0m \u001B[43m    \u001B[49m\u001B[43mneighbors\u001B[49m\u001B[43m,\u001B[49m\n\u001B[1;32m    287\u001B[0m \u001B[43m    \u001B[49m\u001B[43mindptr\u001B[49m\u001B[43m,\u001B[49m\n\u001B[1;32m    288\u001B[0m \u001B[43m    \u001B[49m\u001B[43mgrad\u001B[49m\u001B[43m,\u001B[49m\n\u001B[1;32m    289\u001B[0m \u001B[43m    \u001B[49m\u001B[43mangle\u001B[49m\u001B[43m,\u001B[49m\n\u001B[1;32m    290\u001B[0m \u001B[43m    \u001B[49m\u001B[43mn_components\u001B[49m\u001B[43m,\u001B[49m\n\u001B[1;32m    291\u001B[0m \u001B[43m    \u001B[49m\u001B[43mverbose\u001B[49m\u001B[43m,\u001B[49m\n\u001B[1;32m    292\u001B[0m \u001B[43m    \u001B[49m\u001B[43mdof\u001B[49m\u001B[38;5;241;43m=\u001B[39;49m\u001B[43mdegrees_of_freedom\u001B[49m\u001B[43m,\u001B[49m\n\u001B[1;32m    293\u001B[0m \u001B[43m    \u001B[49m\u001B[43mcompute_error\u001B[49m\u001B[38;5;241;43m=\u001B[39;49m\u001B[43mcompute_error\u001B[49m\u001B[43m,\u001B[49m\n\u001B[1;32m    294\u001B[0m \u001B[43m    \u001B[49m\u001B[43mnum_threads\u001B[49m\u001B[38;5;241;43m=\u001B[39;49m\u001B[43mnum_threads\u001B[49m\u001B[43m,\u001B[49m\n\u001B[1;32m    295\u001B[0m \u001B[43m\u001B[49m\u001B[43m)\u001B[49m\n\u001B[1;32m    296\u001B[0m c \u001B[38;5;241m=\u001B[39m \u001B[38;5;241m2.0\u001B[39m \u001B[38;5;241m*\u001B[39m (degrees_of_freedom \u001B[38;5;241m+\u001B[39m \u001B[38;5;241m1.0\u001B[39m) \u001B[38;5;241m/\u001B[39m degrees_of_freedom\n\u001B[1;32m    297\u001B[0m grad \u001B[38;5;241m=\u001B[39m grad\u001B[38;5;241m.\u001B[39mravel()\n",
      "\u001B[0;31mKeyboardInterrupt\u001B[0m: "
     ]
    }
   ],
   "source": [
    "import matplotlib.pyplot as plt\n",
    "from sklearn.manifold import TSNE\n",
    "\n",
    "tsne = TSNE(n_components=2, random_state=42)\n",
    "X_reduced = tsne.fit_transform(X)\n",
    "plt.figure(figsize=(13,10))\n",
    "plt.scatter(X_reduced[:, 0], X_reduced[:, 1], c=y, cmap=\"jet\")"
   ],
   "metadata": {
    "collapsed": false,
    "ExecuteTime": {
     "end_time": "2024-02-20T14:33:02.348993210Z",
     "start_time": "2024-02-20T14:29:31.904907003Z"
    }
   },
   "id": "1441a7abd11c4037",
   "execution_count": 13
  },
  {
   "cell_type": "code",
   "outputs": [],
   "source": [],
   "metadata": {
    "collapsed": false
   },
   "id": "b21f5d53b55fffc5"
  }
 ],
 "metadata": {
  "kernelspec": {
   "display_name": "Python 3",
   "language": "python",
   "name": "python3"
  },
  "language_info": {
   "codemirror_mode": {
    "name": "ipython",
    "version": 2
   },
   "file_extension": ".py",
   "mimetype": "text/x-python",
   "name": "python",
   "nbconvert_exporter": "python",
   "pygments_lexer": "ipython2",
   "version": "2.7.6"
  }
 },
 "nbformat": 4,
 "nbformat_minor": 5
}
