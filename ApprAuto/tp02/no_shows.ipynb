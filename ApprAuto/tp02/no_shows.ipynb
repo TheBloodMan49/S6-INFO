{
 "cells": [
  {
   "cell_type": "markdown",
   "source": [
    "# The problem \n",
    "\n",
    "We are trying to predict if a given patient will go to their appointment or not. \n",
    "This is a binary classification problem.\n",
    "\n",
    "## Import the dataset"
   ],
   "metadata": {
    "collapsed": false
   },
   "id": "82ec5510e2dca9ec"
  },
  {
   "cell_type": "code",
   "source": [
    "import pandas as pd\n",
    "\n",
    "df = pd.read_csv('KaggleV2-May-2016.csv')"
   ],
   "metadata": {
    "collapsed": false
   },
   "id": "b5e716ebfd1a0cfc",
   "outputs": [],
   "execution_count": null
  },
  {
   "cell_type": "markdown",
   "source": [
    "Now let's take a look at the data"
   ],
   "metadata": {
    "collapsed": false
   },
   "id": "73e7cfd043f36d55"
  },
  {
   "cell_type": "code",
   "source": [
    "df.head()"
   ],
   "metadata": {
    "collapsed": false
   },
   "id": "72163d18d7c9741a",
   "outputs": [],
   "execution_count": null
  },
  {
   "cell_type": "code",
   "source": [
    "df.describe()"
   ],
   "metadata": {
    "collapsed": false
   },
   "id": "ecc24b864d3e3578",
   "outputs": [],
   "execution_count": null
  },
  {
   "cell_type": "markdown",
   "source": [
    "We have 14 columns, and 110527 rows."
   ],
   "metadata": {
    "collapsed": false
   },
   "id": "3d40d901547f95f4"
  },
  {
   "cell_type": "code",
   "source": [
    "df.duplicated().sum()"
   ],
   "metadata": {
    "collapsed": false
   },
   "id": "b9978a2ad49ac7c1",
   "outputs": [],
   "execution_count": null
  },
  {
   "cell_type": "markdown",
   "source": [
    "We have no duplicated rows.\n",
    "Now let's fix that column name and check for missing values."
   ],
   "metadata": {
    "collapsed": false
   },
   "id": "632525778f444e78"
  },
  {
   "cell_type": "code",
   "source": [
    "df.rename(columns={'Hipertension':'Hypertension', 'Handcap':'Handicap'}, inplace=True)\n",
    "df.columns = df.columns.str.lower().str.replace('-', '_')\n",
    "\n",
    "df.head()"
   ],
   "metadata": {
    "collapsed": false
   },
   "id": "65b039734830401a",
   "outputs": [],
   "execution_count": null
  },
  {
   "cell_type": "code",
   "source": [
    "df.query('age < 0')"
   ],
   "metadata": {
    "collapsed": false
   },
   "id": "5679e5dee5cbc9c2",
   "outputs": [],
   "execution_count": null
  },
  {
   "cell_type": "code",
   "source": [
    "df.drop(df.query('age < 0').index, inplace=True)\n",
    "\n",
    "df['appointmentid'].count()"
   ],
   "metadata": {
    "collapsed": false
   },
   "id": "c590e2cf2161756a",
   "outputs": [],
   "execution_count": null
  },
  {
   "cell_type": "markdown",
   "source": [
    "The data is now clean.\n",
    "\n",
    "# The analysis\n"
   ],
   "metadata": {
    "collapsed": false
   },
   "id": "31f910f8192b40ee"
  },
  {
   "cell_type": "markdown",
   "source": [
    "Let's prepare the data"
   ],
   "metadata": {
    "collapsed": false
   },
   "id": "70d378f2e01147fd"
  },
  {
   "cell_type": "code",
   "source": [
    "from sklearn.preprocessing import MinMaxScaler, LabelEncoder\n",
    "\n",
    "X = df.drop(['no_show', 'appointmentid', 'patientid'], axis=1)\n",
    "\n",
    "y = df['no_show'].map({'No': 0, 'Yes': 1})\n",
    "\n",
    "encoder = LabelEncoder()\n",
    "features = X.columns\n",
    "X = X.apply(encoder.fit_transform)\n",
    "\n",
    "scaler = MinMaxScaler()\n",
    "X = scaler.fit_transform(X)\n",
    "\n",
    "X = pd.DataFrame(X, columns=features)\n",
    "X"
   ],
   "metadata": {
    "collapsed": false
   },
   "id": "3671f21cf9dd4c21",
   "outputs": [],
   "execution_count": null
  },
  {
   "cell_type": "code",
   "source": [
    "import matplotlib.pyplot as plt\n",
    "from sklearn.manifold import TSNE\n",
    "\n",
    "tsne = TSNE(n_components=2, random_state=42)\n",
    "X_reduced = tsne.fit_transform(X)\n",
    "plt.figure(figsize=(13,10))\n",
    "plt.scatter(X_reduced[:, 0], X_reduced[:, 1], c=y, cmap=\"jet\")"
   ],
   "metadata": {
    "collapsed": false
   },
   "id": "1441a7abd11c4037",
   "outputs": [],
   "execution_count": null
  },
  {
   "cell_type": "code",
   "source": [],
   "metadata": {
    "collapsed": false
   },
   "id": "b21f5d53b55fffc5",
   "outputs": [],
   "execution_count": null
  }
 ],
 "metadata": {
  "kernelspec": {
   "display_name": "Python 3",
   "language": "python",
   "name": "python3"
  },
  "language_info": {
   "codemirror_mode": {
    "name": "ipython",
    "version": 2
   },
   "file_extension": ".py",
   "mimetype": "text/x-python",
   "name": "python",
   "nbconvert_exporter": "python",
   "pygments_lexer": "ipython2",
   "version": "2.7.6"
  }
 },
 "nbformat": 4,
 "nbformat_minor": 5
}
